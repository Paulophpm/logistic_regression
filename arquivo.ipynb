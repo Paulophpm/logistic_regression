{
 "cells": [
  {
   "cell_type": "code",
   "execution_count": 1,
   "metadata": {},
   "outputs": [],
   "source": [
    "# importação dos pacotes\n",
    "import pandas as pd\n",
    "import numpy as np\n",
    "from scipy.optimize import minimize\n",
    "from matplotlib import rcParams"
   ]
  },
  {
   "cell_type": "code",
   "execution_count": null,
   "metadata": {},
   "outputs": [],
   "source": [
    "# ler arquivos em excel\n",
    "#!pip install xlrd\n",
    "#!pip install openpyxl"
   ]
  },
  {
   "cell_type": "code",
   "execution_count": 8,
   "metadata": {},
   "outputs": [],
   "source": [
    "# configurando impressões dos gráficos\n",
    "rcParams['figure.figsize'] = 12, 4\n",
    "rcParams['lines.linewidth'] = 3\n",
    "rcParams['xtick.labelsize'] = 'x-large' \n",
    "rcParams['ytick.labelsize'] = 'x-large'"
   ]
  },
  {
   "cell_type": "code",
   "execution_count": 15,
   "metadata": {},
   "outputs": [],
   "source": [
    "# carregando dataset dos custos\n",
    "custo_p = pd.read_excel(\"dataset/custos_pedagio.xlsx\", index_col=0)\n",
    "custo_c = pd.read_excel(\"dataset/custos_combustivel.xlsx\", index_col=0)\n",
    "custo_h = pd.read_excel(\"dataset/custos_equipamento.xlsx\", index_col=0)\n",
    "custo_e = pd.read_excel(\"dataset/custos_hospedagem.xlsx\", index_col=0)\n",
    "fator = pd.read_excel(\"dataset/fatores.xlsx\")"
   ]
  },
  {
   "cell_type": "code",
   "execution_count": 16,
   "metadata": {},
   "outputs": [],
   "source": [
    "# subtituir NAN por 0 e transformar para array\n",
    "custo_p = custo_p.replace({np.nan:0}).to_numpy()\n",
    "custo_c = custo_c.replace({np.nan:0}).to_numpy()\n",
    "custo_h = custo_h.replace({np.nan:0}).to_numpy()\n",
    "custo_e = custo_e.replace({np.nan:0}).to_numpy()\n",
    "fator = fator.to_numpy()"
   ]
  },
  {
   "cell_type": "code",
   "execution_count": 17,
   "metadata": {},
   "outputs": [],
   "source": [
    "# multiplicando cada um dos array de custo pelo seu fator\n",
    "cp = custo_p*fator[0][0]\n",
    "cc = custo_c*fator[0][1]\n",
    "ch = custo_h*fator[0][2]\n",
    "ce = custo_e*fator[0][3]"
   ]
  },
  {
   "cell_type": "code",
   "execution_count": 18,
   "metadata": {},
   "outputs": [],
   "source": [
    "# array com os custos totais\n",
    "ct = cp + cc + ch + ce"
   ]
  },
  {
   "cell_type": "code",
   "execution_count": 19,
   "metadata": {},
   "outputs": [],
   "source": [
    "# Demanda dos fluxos\n",
    "d = -275\n",
    "cd = 0\n",
    "c1 = 150\n",
    "c2 = 90\n",
    "c3 = 15\n",
    "c4 = 20\n",
    "# array das demandas do fluxo\n",
    "x = np.array([d,cd,c1,c2,c3,c4])"
   ]
  },
  {
   "cell_type": "code",
   "execution_count": null,
   "metadata": {},
   "outputs": [],
   "source": [
    "# Função objetivo\n",
    "def funcao_objetivo(x):\n",
    "    # Parâmetros do problema\n",
    "    n = 6  # Tamanho do problema\n",
    "    # Cálculo da função objetivo\n",
    "    z = 0\n",
    "    for i in range(n):\n",
    "        for j in range(n):\n",
    "            z += ct[i][j] * x[i][j]\n",
    "    return z"
   ]
  },
  {
   "cell_type": "code",
   "execution_count": null,
   "metadata": {},
   "outputs": [],
   "source": [
    "# Restrições do modelo\n",
    "r1 = 150\n",
    "r2 = 90\n",
    "r3 =15\n",
    "r4 =20\n",
    "r5 =0\n",
    "r6 =-275\n",
    "# array das restrições\n",
    "\n",
    "# inequação\n"
   ]
  },
  {
   "cell_type": "code",
   "execution_count": null,
   "metadata": {},
   "outputs": [],
   "source": [
    "\n",
    "# Condições iniciais\n",
    "x0 = np.ones((3, 3))  # Exemplo de matriz inicial\n",
    "\n",
    "# Otimização\n",
    "resultado = minimize(funcao_objetivo, x0, method='SLSQP')\n",
    "\n",
    "# Resultados\n",
    "melhor_valor = resultado.fun\n",
    "melhor_solucao = resultado.x\n",
    "\n",
    "# Imprimir resultados\n",
    "print(\"Melhor valor: \", melhor_valor)\n",
    "print(\"Melhor solução: \")\n",
    "print(melhor_solucao)"
   ]
  }
 ],
 "metadata": {
  "kernelspec": {
   "display_name": "base",
   "language": "python",
   "name": "python3"
  },
  "language_info": {
   "codemirror_mode": {
    "name": "ipython",
    "version": 3
   },
   "file_extension": ".py",
   "mimetype": "text/x-python",
   "name": "python",
   "nbconvert_exporter": "python",
   "pygments_lexer": "ipython3",
   "version": "3.10.4"
  },
  "orig_nbformat": 4
 },
 "nbformat": 4,
 "nbformat_minor": 2
}

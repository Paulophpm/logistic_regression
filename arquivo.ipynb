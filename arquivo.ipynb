{
 "cells": [
  {
   "cell_type": "code",
   "execution_count": 55,
   "metadata": {},
   "outputs": [],
   "source": [
    "# importação dos pacotes\n",
    "import pandas as pd\n",
    "import numpy as np\n",
    "import matplotlib.pyplot as plt\n",
    "from matplotlib import rcParams"
   ]
  },
  {
   "cell_type": "code",
   "execution_count": 56,
   "metadata": {},
   "outputs": [],
   "source": [
    "# configurando impressões dos gráficos\n",
    "rcParams['figure.figsize'] = 12, 4\n",
    "rcParams['lines.linewidth'] = 3\n",
    "rcParams['xtick.labelsize'] = 'x-large' \n",
    "rcParams['ytick.labelsize'] = 'x-large'"
   ]
  },
  {
   "cell_type": "code",
   "execution_count": 57,
   "metadata": {},
   "outputs": [],
   "source": [
    "#carregando dataset dos custos\n",
    "custo_p = pd.read_excel(\"custos_pedagio.xlsx\", index_col=0)\n",
    "custo_c = pd.read_excel(\"custos_combustivel.xlsx\", index_col=0)\n",
    "custo_h = pd.read_excel(\"custos_equipamento.xlsx\", index_col=0)\n",
    "custo_e = pd.read_excel(\"custos_hospedagem.xlsx\", index_col=0)\n",
    "fator = pd.read_excel(\"fatores.xlsx\")"
   ]
  },
  {
   "cell_type": "code",
   "execution_count": null,
   "metadata": {},
   "outputs": [],
   "source": [
    "# importando fluxo de"
   ]
  },
  {
   "cell_type": "code",
   "execution_count": null,
   "metadata": {},
   "outputs": [],
   "source": [
    "# transformando em matrizes\n",
    "#custop = custo_p.to_numpy();custop"
   ]
  },
  {
   "cell_type": "code",
   "execution_count": 58,
   "metadata": {},
   "outputs": [],
   "source": [
    "# subtituir NAN por 0\n",
    "custo_p = custo_p.replace({np.nan:0})\n",
    "custo_c = custo_c.replace({np.nan:0})\n",
    "custo_h = custo_h.replace({np.nan:0})\n",
    "custo_e = custo_e.replace({np.nan:0})"
   ]
  }
 ],
 "metadata": {
  "kernelspec": {
   "display_name": "base",
   "language": "python",
   "name": "python3"
  },
  "language_info": {
   "codemirror_mode": {
    "name": "ipython",
    "version": 3
   },
   "file_extension": ".py",
   "mimetype": "text/x-python",
   "name": "python",
   "nbconvert_exporter": "python",
   "pygments_lexer": "ipython3",
   "version": "3.9.12"
  },
  "orig_nbformat": 4
 },
 "nbformat": 4,
 "nbformat_minor": 2
}
